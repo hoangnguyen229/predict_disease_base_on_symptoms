{
 "cells": [
  {
   "cell_type": "code",
   "execution_count": 9,
   "metadata": {},
   "outputs": [
    {
     "name": "stdout",
     "output_type": "stream",
     "text": [
      "Requirement already satisfied: pymysql in c:\\users\\vanho\\miniconda3\\lib\\site-packages (1.1.1)\n"
     ]
    }
   ],
   "source": [
    "!pip install pymysql"
   ]
  },
  {
   "cell_type": "code",
   "execution_count": 10,
   "metadata": {},
   "outputs": [],
   "source": [
    "import csv\n",
    "import pymysql"
   ]
  },
  {
   "cell_type": "code",
   "execution_count": 11,
   "metadata": {},
   "outputs": [],
   "source": [
    "# Database connection\n",
    "connection = pymysql.connect(\n",
    "    host='localhost',\n",
    "    user='root',\n",
    "    password='password',\n",
    "    database='doctor-appointment'\n",
    ")\n",
    "\n",
    "# Cursor to execute queries\n",
    "cursor = connection.cursor()"
   ]
  },
  {
   "cell_type": "code",
   "execution_count": 12,
   "metadata": {},
   "outputs": [],
   "source": [
    "# Load and insert data from CSV files\n",
    "def insert_data():\n",
    "    # Load description data\n",
    "    description_dict = {}\n",
    "    with open('./Data/symptom_Description.csv') as file:\n",
    "        reader = csv.reader(file)\n",
    "        for row in reader:\n",
    "            description_dict[row[0]] = row[1]\n",
    "\n",
    "\n",
    "    # Load severity data\n",
    "    severity_dict = {}\n",
    "    with open('./Data/Symptom_severity.csv') as file:\n",
    "        reader = csv.reader(file)\n",
    "        for row in reader:\n",
    "            if len(row) >= 2:  # Kiểm tra xem dòng có ít nhất 2 phần tử\n",
    "                severity_dict[row[0]] = int(row[1]) if row[1] else None\n",
    "            elif len(row) == 1:  # Nếu chỉ có 1 phần tử\n",
    "                severity_dict[row[0]] = None\n",
    "\n",
    "    # Load precaution data and insert into the database\n",
    "    with open('./Data/symptom_precaution.csv') as file:\n",
    "        reader = csv.reader(file)\n",
    "        for row in reader:\n",
    "            symptom_name = row[0]\n",
    "            description = description_dict.get(symptom_name, None)\n",
    "            severity = severity_dict.get(symptom_name, None)\n",
    "            precaution_1, precaution_2, precaution_3, precaution_4 = row[1], row[2], row[3], row[4]\n",
    "\n",
    "            # SQL query to insert data\n",
    "            query = \"\"\"\n",
    "            INSERT INTO Symptoms (symptom_name, description, severity, precaution_1, precaution_2, precaution_3, precaution_4)\n",
    "            VALUES (%s, %s, %s, %s, %s, %s, %s)\n",
    "            \"\"\"\n",
    "            cursor.execute(query, (symptom_name, description, severity, precaution_1, precaution_2, precaution_3, precaution_4))\n",
    "\n",
    "    # Commit the transaction\n",
    "    connection.commit()"
   ]
  },
  {
   "cell_type": "code",
   "execution_count": 13,
   "metadata": {},
   "outputs": [],
   "source": [
    "# Insert data into the table\n",
    "insert_data()"
   ]
  },
  {
   "cell_type": "code",
   "execution_count": 73,
   "metadata": {},
   "outputs": [],
   "source": [
    "# Close the connection\n",
    "cursor.close()\n",
    "connection.close()"
   ]
  }
 ],
 "metadata": {
  "kernelspec": {
   "display_name": "base",
   "language": "python",
   "name": "python3"
  },
  "language_info": {
   "codemirror_mode": {
    "name": "ipython",
    "version": 3
   },
   "file_extension": ".py",
   "mimetype": "text/x-python",
   "name": "python",
   "nbconvert_exporter": "python",
   "pygments_lexer": "ipython3",
   "version": "3.12.2"
  }
 },
 "nbformat": 4,
 "nbformat_minor": 2
}
