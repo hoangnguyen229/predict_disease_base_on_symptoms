{
 "cells": [
  {
   "cell_type": "code",
   "execution_count": null,
   "metadata": {},
   "outputs": [
    {
     "name": "stdout",
     "output_type": "stream",
     "text": [
      "<class 'sklearn.tree._classes.DecisionTreeClassifier'>\n"
     ]
    }
   ],
   "source": [
    "import pickle\n",
    "\n",
    "# Nạp mô hình từ file .pkl\n",
    "with open('E:/Dev/Source/AI/Symptom-Based-Disease-Prediction-Chatbot-Using-NLP/model.pkl', 'rb') as file:\n",
    "    model = pickle.load(file)\n",
    "\n",
    "# Kiểm tra kiểu của mô hình đã nạp\n",
    "print(type(model))\n",
    "print(\"Các tên tính năng: \", cols)\n"
   ]
  },
  {
   "cell_type": "code",
   "execution_count": 4,
   "metadata": {},
   "outputs": [
    {
     "name": "stdout",
     "output_type": "stream",
     "text": [
      "{'ccp_alpha': 0.0, 'class_weight': None, 'criterion': 'gini', 'max_depth': None, 'max_features': None, 'max_leaf_nodes': None, 'min_impurity_decrease': 0.0, 'min_samples_leaf': 1, 'min_samples_split': 2, 'min_weight_fraction_leaf': 0.0, 'monotonic_cst': None, 'random_state': None, 'splitter': 'best'}\n"
     ]
    }
   ],
   "source": [
    "# Kiểm tra các tham số của mô hình (nếu có)\n",
    "if hasattr(model, 'get_params'):\n",
    "    print(model.get_params())  # Hiển thị các tham số của mô hình"
   ]
  },
  {
   "cell_type": "code",
   "execution_count": null,
   "metadata": {},
   "outputs": [
    {
     "name": "stdout",
     "output_type": "stream",
     "text": [
      "Decision tree structure:\n",
      "<sklearn.tree._tree.Tree object at 0x000001EAD0BA0490>\n",
      "[ 88  93  79 105 128  73 118 131   2  86  19 117 119  95 109  41  97  63\n",
      "  98  77  83   4 100  91 108 111   0  22 106   7 113  33 122  61  26  27\n",
      "   3  29 123  28  10  48   6  87  56 129  84  94  12  43  62  74  92  80\n",
      "  66  37  -2  -2  -2  -2  -2  -2  -2  14  -2  -2  -2  -2  -2  -2  11  -2\n",
      "  -2  -2 126  -2  -2  -2  -2  11  -2  -2  -2  -2  -2  14  -2  -2  -2  -2\n",
      "  -2  -2  -2  12  -2  -2  34  32  -2  -2  -2  -2  32 102  35  -2  39  -2\n",
      "  -2  -2  25  -2  -2  -2  -2  -2  -2  -2  -2  -2  -2  82  -2  -2  36  -2\n",
      "  -2  43  -2  -2  -2  -2  -2  -2  80  -2  -2  -2  -2  -2  -2  -2  -2  -2\n",
      "  -2  -2  -2]\n",
      "[ 0.5  0.5  0.5  0.5  0.5  0.5  0.5  0.5  0.5  0.5  0.5  0.5  0.5  0.5\n",
      "  0.5  0.5  0.5  0.5  0.5  0.5  0.5  0.5  0.5  0.5  0.5  0.5  0.5  0.5\n",
      "  0.5  0.5  0.5  0.5  0.5  0.5  0.5  0.5  0.5  0.5  0.5  0.5  0.5  0.5\n",
      "  0.5  0.5  0.5  0.5  0.5  0.5  0.5  0.5  0.5  0.5  0.5  0.5  0.5  0.5\n",
      " -2.  -2.  -2.  -2.  -2.  -2.  -2.   0.5 -2.  -2.  -2.  -2.  -2.  -2.\n",
      "  0.5 -2.  -2.  -2.   0.5 -2.  -2.  -2.  -2.   0.5 -2.  -2.  -2.  -2.\n",
      " -2.   0.5 -2.  -2.  -2.  -2.  -2.  -2.  -2.   0.5 -2.  -2.   0.5  0.5\n",
      " -2.  -2.  -2.  -2.   0.5  0.5  0.5 -2.   0.5 -2.  -2.  -2.   0.5 -2.\n",
      " -2.  -2.  -2.  -2.  -2.  -2.  -2.  -2.  -2.   0.5 -2.  -2.   0.5 -2.\n",
      " -2.   0.5 -2.  -2.  -2.  -2.  -2.  -2.   0.5 -2.  -2.  -2.  -2.  -2.\n",
      " -2.  -2.  -2.  -2.  -2.  -2.  -2. ]\n",
      "[[[0.02518204 0.02366505 0.02366505 ... 0.02396845 0.02427184 0.02305825]]\n",
      "\n",
      " [[0.0258567  0.02429907 0.02429907 ... 0.02461059 0.02492212 0.02367601]]\n",
      "\n",
      " [[0.0265685  0.02496799 0.02496799 ... 0.02528809 0.02560819 0.02432778]]\n",
      "\n",
      " ...\n",
      "\n",
      " [[0.         0.         0.         ... 0.         0.         0.        ]]\n",
      "\n",
      " [[0.         0.         0.         ... 0.         0.         0.        ]]\n",
      "\n",
      " [[0.         0.         0.         ... 0.         0.         0.        ]]]\n"
     ]
    }
   ],
   "source": [
    "# Nếu mô hình là một cây quyết định, bạn có thể kiểm tra cấu trúc của nó\n",
    "if hasattr(model, 'tree_'):\n",
    "    print(\"Decision tree structure:\")\n",
    "    print(model.tree_)"
   ]
  },
  {
   "cell_type": "code",
   "execution_count": 9,
   "metadata": {},
   "outputs": [
    {
     "name": "stdout",
     "output_type": "stream",
     "text": [
      "Feature Importances:\n",
      "[0.02310793 0.         0.0247345  0.00240835 0.0233301  0.\n",
      " 0.00154275 0.02171379 0.         0.         0.00153374 0.00171057\n",
      " 0.00299452 0.         0.00245401 0.         0.         0.\n",
      " 0.         0.0243324  0.         0.         0.02233453 0.\n",
      " 0.         0.00179943 0.0176292  0.01151409 0.00187719 0.00212001\n",
      " 0.         0.         0.02227832 0.02223549 0.02205226 0.00302023\n",
      " 0.02368942 0.00062202 0.         0.00106633 0.         0.02401943\n",
      " 0.         0.02519208 0.         0.         0.         0.\n",
      " 0.00153041 0.         0.         0.         0.         0.\n",
      " 0.         0.         0.00127814 0.         0.         0.\n",
      " 0.         0.01933323 0.00090167 0.02398321 0.         0.\n",
      " 0.00062202 0.         0.         0.         0.         0.\n",
      " 0.         0.02547889 0.00088457 0.         0.         0.02362715\n",
      " 0.         0.02662581 0.02502755 0.         0.00237101 0.02355741\n",
      " 0.00121858 0.         0.02448567 0.00151275 0.02670278 0.\n",
      " 0.         0.02313507 0.00084821 0.02664897 0.00121155 0.02418511\n",
      " 0.         0.02404827 0.02377495 0.         0.02315707 0.\n",
      " 0.00371884 0.         0.         0.02638984 0.02202084 0.\n",
      " 0.02299288 0.02413083 0.         0.0227016  0.         0.02157295\n",
      " 0.         0.         0.         0.02421515 0.02487442 0.02421198\n",
      " 0.         0.         0.02037068 0.00211026 0.         0.\n",
      " 0.00149286 0.         0.0257123  0.00122355 0.         0.02479828]\n"
     ]
    }
   ],
   "source": [
    "# Kiểm tra độ quan trọng của các tính năng (nếu mô hình hỗ trợ)\n",
    "if hasattr(model, 'feature_importances_'):\n",
    "    print(\"Feature Importances:\")\n",
    "    print(model.feature_importances_)"
   ]
  }
 ],
 "metadata": {
  "kernelspec": {
   "display_name": "base",
   "language": "python",
   "name": "python3"
  },
  "language_info": {
   "codemirror_mode": {
    "name": "ipython",
    "version": 3
   },
   "file_extension": ".py",
   "mimetype": "text/x-python",
   "name": "python",
   "nbconvert_exporter": "python",
   "pygments_lexer": "ipython3",
   "version": "3.12.2"
  }
 },
 "nbformat": 4,
 "nbformat_minor": 2
}
